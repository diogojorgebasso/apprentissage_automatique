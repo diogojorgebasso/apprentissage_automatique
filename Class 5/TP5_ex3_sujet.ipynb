{
 "cells": [
  {
   "cell_type": "markdown",
   "metadata": {},
   "source": [
    "# Introduction à l'apprentissage automatique: TP5 - Exercice 3 \n",
    "\n",
    "<br>\n",
    "\n",
    "### Prédiction de la qualité de vins\n",
    "\n",
    "Le dataset suivant:\n",
    "\n",
    "https://www.openml.org/d/40691\n",
    "\n",
    "fournit la description de 1599 vins rouges: 12 mesures physico-chimiques ainsi qu'un critère qualitatif donné comme une note entre 3 et 8 (plus haute est la note, meilleur est le vin).\n",
    "\n",
    "Remarquez que les 12 caractéristiques doivent être normalisées.\n",
    "\n",
    "La cellule suivante charge les données, construit des bases d'apprentissage et de test, et normalise les caractéristiques.\n"
   ]
  },
  {
   "cell_type": "code",
   "execution_count": null,
   "metadata": {},
   "outputs": [],
   "source": [
    "from sklearn import datasets, metrics, neural_network, svm, model_selection, preprocessing\n",
    "import numpy as np\n",
    "import matplotlib.pyplot as plt\n",
    "%matplotlib inline \n",
    "\n",
    "# chargement des données\n",
    "X_wine, y_wine = datasets.fetch_openml('wine-quality-red',  return_X_y=True, as_frame=False, parser='auto')\n",
    "\n",
    "n_samples = len(X_wine)\n",
    "print(\"nombre total d'observations (apprentissage + test): %d\" % n_samples)\n",
    "\n",
    "n_features = len(X_wine[0])\n",
    "print(\"nombre de caractéristiques par observation: %d\" % n_features)\n",
    "\n",
    "X_train, X_test, y_train, y_test = model_selection.train_test_split(X_wine, y_wine, test_size=0.3, random_state=1)\n",
    "\n",
    "print(\"nombre d'observations dans la base d'apprentissage: %d\" %len(X_train))\n",
    "print(\"nombre d'observations dans la base de test: %d\" %len(X_test))\n",
    "\n",
    "print(\"\\n Cinq premières observations de X_train:\")\n",
    "print(X_train[:5,:])\n",
    "print(\"\\n et classes associées:\")\n",
    "print(y_train[:5])\n",
    "\n",
    "# normalisation:\n",
    "X_train_n = preprocessing.StandardScaler().fit_transform(X_train)\n",
    "X_test_n = preprocessing.StandardScaler().fit(X_train).transform(X_test)\n"
   ]
  },
  {
   "cell_type": "markdown",
   "metadata": {},
   "source": [
    "Deux remarques:\n",
    "\n",
    "- Certaines caractéristiques semblent corrélées (on pourrait le vérifier en traçant des graphiques et en calculant des coefficients de corrélation comme dans le cours d'analyse de données): il serait sans doute pertinent de sélectionner des caractéristiques ou de réduire la dimension des observations.\n",
    "\n",
    "- Nous allons envisager ce problème comme un problème de classification à 6 classes (les notes de 3 à 8). Néanmoins, il ne semblerait pas absurde de l'envisager comme un problème de régression.\n",
    "\n",
    "\n",
    "<br>\n",
    "\n",
    "Proposez des prédicteurs de la qualité en fonction des 12 mesures physico-chimiques. Vous explorerez les machines à vecteurs supports et les perceptrons multicouches, dont vous fixerez les hyperparamètres par _grid search_ et validation croisée.\n",
    "\n",
    "<br>\n",
    "\n",
    "Comparez vos résultats à ceux reportés ici:\n",
    "https://www.openml.org/t/146217\n",
    "(en vous demandant si les valeurs sont bien comparables)"
   ]
  },
  {
   "cell_type": "code",
   "execution_count": null,
   "metadata": {},
   "outputs": [],
   "source": [
    "# votre code ici:\n"
   ]
  },
  {
   "cell_type": "code",
   "execution_count": null,
   "metadata": {},
   "outputs": [],
   "source": []
  }
 ],
 "metadata": {
  "kernelspec": {
   "display_name": "base",
   "language": "python",
   "name": "python3"
  },
  "language_info": {
   "codemirror_mode": {
    "name": "ipython",
    "version": 3
   },
   "file_extension": ".py",
   "mimetype": "text/x-python",
   "name": "python",
   "nbconvert_exporter": "python",
   "pygments_lexer": "ipython3",
   "version": "3.12.7"
  }
 },
 "nbformat": 4,
 "nbformat_minor": 4
}
