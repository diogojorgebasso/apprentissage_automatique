{
 "cells": [
  {
   "cell_type": "markdown",
   "id": "addfc761",
   "metadata": {},
   "source": [
    "# Introduction à l'apprentissage automatique @ Mines Nancy\n",
    "\n",
    "# Examen 2024 - partie 2  (10 points)\n",
    "\n",
    "\n",
    "<br>\n",
    "\n",
    "Le Sloan Digital Sky Survey est un projet visant à cartographier l'univers. En 2018 est sortie la 14ème publicatons des données (_data release_) du projet.\n",
    "\n",
    "Le fichier `DR14_clean` contient les informations suivantes pour 10000 astres:\n",
    "1. _ra_: ascension droite\n",
    "2. _dec_: déclinaison\n",
    "3. à 7. _u_, _g_, _r_, _i_, _z_: réponse spectrale de l'astre observé dans cinq bandes de longueurs d'onde différentes\n",
    "8. _class_: nature de l'astre (STAR, GALAXY, QUASAR OBJECT)\n",
    "\n",
    "Ascension droite et déclinaison permettent de repérer l'astre dans le ciel.\n",
    "\n",
    "L'objectif est de prédire la variable _class_ à partir des variables _u_, _g_, _r_, _i_, _z_.\n",
    "\n",
    "Copiez le fichier dans votre dossier de travail et ouvrez-le dans Excel ou LibreOffice pour visualiser son contenu.\n",
    "\n",
    "<br>\n",
    "\n",
    "On commence par importer les bibliothèques utiles et charger les données. "
   ]
  },
  {
   "cell_type": "code",
   "execution_count": null,
   "id": "631cb3f6",
   "metadata": {},
   "outputs": [],
   "source": [
    "import numpy as np\n",
    "import matplotlib.pyplot as plt\n",
    "from sklearn import preprocessing, metrics, model_selection, dummy, neural_network, svm, neighbors, naive_bayes, linear_model\n",
    "\n",
    "%matplotlib inline \n",
    "\n",
    "# on charge les données en codant la classe par un entier (0: STAR, 1: GALAXY, 2: QSO)\n",
    "conv={8: lambda x: 0 if x==b'STAR' else 1 if x==b\"GALAXY\" else 2}\n",
    "data = np.loadtxt('DR14_clean.csv', delimiter=\";\", skiprows=1, usecols=(3,4,5,6,7,8), converters=conv)  \n",
    "\n",
    "# les caractéristiques des observations:\n",
    "X_data = data[:,:-1]\n",
    "# l'étiquette à prédire:\n",
    "Y_data = data[:,-1]\n",
    "\n",
    "print(\"\\nNombre d'observations : %d\" %len(X_data))\n",
    "\n",
    "print(\"\\nNombre de caractéristiques par observation: %d \" %X_data.shape[1])\n",
    "\n",
    "print(\"\\nLes cinq premières observations:\")\n",
    "print(X_data[:5,:])\n",
    "\n",
    "print(\"\\nLes étiquettes:\")\n",
    "print(Y_data) \n",
    "\n",
    "print(\"\\ntailles de X_data et Y_data:\")\n",
    "print(X_data.shape)\n",
    "print(Y_data.shape)\n",
    "\n",
    "print(\"\\neffectifs de chaque classe:\")\n",
    "print(\"note 0: %d \" %np.sum(Y_data==0))\n",
    "print(\"note 1: %d\" %np.sum(Y_data==1))\n",
    "print(\"note 2: %d \" %np.sum(Y_data==2))"
   ]
  },
  {
   "cell_type": "markdown",
   "id": "49c41016-285c-4ca4-aadc-78d64d4daa47",
   "metadata": {},
   "source": [
    "### Question préliminaire _(0.5pt)_\n",
    "\n",
    "Que fait la normalisation (standardisation) des observations dans la cellule suivante ?"
   ]
  },
  {
   "cell_type": "markdown",
   "id": "b339df67-5d6f-4ec8-bb7f-63691f59802b",
   "metadata": {},
   "source": [
    "<font color=red>\n",
    "Votre réponse:\n",
    "\n",
    "</font>"
   ]
  },
  {
   "cell_type": "markdown",
   "id": "6f88e3ee",
   "metadata": {},
   "source": [
    "La cellule suivante crée les bases d'apprentissage et de test, et normalise les observations."
   ]
  },
  {
   "cell_type": "code",
   "execution_count": null,
   "id": "f42c1a44",
   "metadata": {},
   "outputs": [],
   "source": [
    "X_train_a, X_test_a, y_train, y_test = model_selection.train_test_split(X_data, Y_data, test_size=0.2, random_state=1)\n",
    "\n",
    "scaler = preprocessing.StandardScaler().fit(X_train_a)\n",
    "X_train = scaler.transform(X_train_a)\n",
    "X_test = scaler.transform(X_test_a)\n",
    "\n",
    "print(\"nombre d'observations dans la base d'apprentissage: %d\" %len(X_train))\n",
    "print(\"nombre d'observations dans la base de test: %d\" %len(X_test))"
   ]
  },
  {
   "cell_type": "markdown",
   "id": "048c7741",
   "metadata": {},
   "source": [
    "## Travail demandé"
   ]
  },
  {
   "cell_type": "markdown",
   "id": "35e99613",
   "metadata": {},
   "source": [
    "Nous cherchons à construire un classifieur capable de prédire la nature d'un astre (variable _class_). Différents classifieurs seront testés.\n",
    "\n",
    "Pour chaque classifieur entraîné sur `X_train`, vous afficherez à chaque fois la __matrice de confusion__ et le __score de précision__ de la prédiction (_accuracy score_) sur la base test. "
   ]
  },
  {
   "cell_type": "markdown",
   "id": "5a1d3632-e8df-4ed9-b482-4f750835838d",
   "metadata": {},
   "source": [
    "### 0. Dummy classifier _(1pt)_\n",
    "\n",
    "Faites une prédiction à l'aide du _dummy classifier_ de scikit-learn, décrit [ici dans la documentation](https://scikit-learn.org/stable/modules/generated/sklearn.dummy.DummyClassifier.html). Vous utiliserez les paramètres par défaut. Décrivez brièvement ce que fait le _dummy classifier_ et expliquez la forme particulière que prend la matrice de confusion."
   ]
  },
  {
   "cell_type": "code",
   "execution_count": null,
   "id": "4a2ea2ae-f6cf-4a68-b719-cd153e1d2848",
   "metadata": {},
   "outputs": [],
   "source": [
    "# votre code ici\n"
   ]
  },
  {
   "cell_type": "markdown",
   "id": "a288d8d5-247d-4898-a698-62e5130cc6d4",
   "metadata": {},
   "source": [
    "<font color=red>\n",
    "\n",
    "Votre réponse:\n",
    "\n",
    "<font>"
   ]
  },
  {
   "cell_type": "markdown",
   "id": "503dfd37",
   "metadata": {},
   "source": [
    "### 1. Classifieur de la régression logistique _(1pt)_\n",
    "\n",
    "Vous utiliserez le modèle vu en cours, c'est à dire sans terme de régularisation (rappel: il faut passer l'argument `penalty=None`). Si vous avez une alerte sur la convergence, passez également l'argument `max_iter=2000`)."
   ]
  },
  {
   "cell_type": "code",
   "execution_count": null,
   "id": "48ce28d8",
   "metadata": {},
   "outputs": [],
   "source": [
    "# votre code ici\n"
   ]
  },
  {
   "cell_type": "markdown",
   "id": "820e3c7c",
   "metadata": {},
   "source": [
    "###  2. Classifieur Gaussien naïf de Bayes _(1pt)_"
   ]
  },
  {
   "cell_type": "code",
   "execution_count": null,
   "id": "8e82c366",
   "metadata": {},
   "outputs": [],
   "source": [
    "# votre code ici\n"
   ]
  },
  {
   "cell_type": "markdown",
   "id": "6bc856ef",
   "metadata": {},
   "source": [
    "### 3. Un réseau de neurones artificiels _(1.5pt)_\n",
    "\n",
    "Testez un réseau de neurones artificiels à deux couches cachées de 10 neurones chacune, au plus 500 itérations d'apprentissage, et fonction d'activation `logistic`. Vous utiliserez le solver `lbfgs`. Ne tenez pas compte de l'éventuelle alerte de convergence."
   ]
  },
  {
   "cell_type": "code",
   "execution_count": null,
   "id": "034c4a08",
   "metadata": {},
   "outputs": [],
   "source": [
    "# votre code ici\n"
   ]
  },
  {
   "cell_type": "markdown",
   "id": "7b084e76",
   "metadata": {},
   "source": [
    "### 4. Plus proches voisins _(1pt)_\n",
    "\n",
    "Utilisez une validation croisée à 5 plis pour sélectionner un classifieur aux $K$ plus proches voisins, pour $K=1,3,5,7,9$.\n",
    "\n",
    "Testez le classifieur sélectionné sur la base test."
   ]
  },
  {
   "cell_type": "code",
   "execution_count": null,
   "id": "144af899",
   "metadata": {},
   "outputs": [],
   "source": [
    "# votre code pour la validation croisée ici:\n"
   ]
  },
  {
   "cell_type": "code",
   "execution_count": null,
   "id": "8dd3916b",
   "metadata": {},
   "outputs": [],
   "source": [
    "# code pour le classifieur sélectionné par validation croisée:\n"
   ]
  },
  {
   "cell_type": "markdown",
   "id": "ea6e6ca5",
   "metadata": {},
   "source": [
    "### 5. Machines à vecteurs supports _(1.5pt)_\n",
    "\n",
    "Testez les machines à vecteurs supports (SVM) à noyau linéaire et à noyau RBF:\n",
    "\n",
    "- dans le cas `rbf`, vous fixerez l'hyperparamètre $C$ par validation croisée à 5 plis sur la base d'apprentissage en le cherchant dans l'ensemble défini par la variable `C_range=10**(np.arange(-4.,4.5,1))`. Vous garderez la valeur par défaut de l'hyperparamètre $\\gamma$.\n",
    "- dans le cas `linear`, vous utiliserez $C=1$ (valeur par défaut) et vous ne ferez pas de recherche de l'hyperparamètre (cela prend trop de temps)."
   ]
  },
  {
   "cell_type": "code",
   "execution_count": null,
   "id": "178e0ccc",
   "metadata": {},
   "outputs": [],
   "source": [
    "# SVM linear (C=1): votre code ici\n"
   ]
  },
  {
   "cell_type": "code",
   "execution_count": null,
   "id": "166f5bc2",
   "metadata": {},
   "outputs": [],
   "source": [
    "# SVM RBF: votre code de validation croisée ici\n"
   ]
  },
  {
   "cell_type": "code",
   "execution_count": null,
   "id": "6392a73e",
   "metadata": {},
   "outputs": [],
   "source": [
    "# SVM RBF sélectionnée: votre code ici\n"
   ]
  },
  {
   "cell_type": "markdown",
   "id": "f6131383",
   "metadata": {},
   "source": [
    "### 6. Conclusion _(1.5 pt)_\n",
    "\n",
    "a. Quel(s) classifieur(s) sélectionnez-vous et pourquoi ? _(0.5pt)_\n",
    "\n",
    "b. Que vous dit la matrice de confusion du ou des meilleur(s) classifieur(s) ? _(0.5pt)_\n",
    "\n",
    "c. Quel est le pire classifieur (à part le _dummy classifier_) et pourquoi à votre avis ? _(0.5pt)_"
   ]
  },
  {
   "cell_type": "markdown",
   "id": "571618cf",
   "metadata": {},
   "source": [
    "<font color=red>\n",
    "\n",
    "Votre réponse:\n",
    "\n",
    "</font>"
   ]
  },
  {
   "cell_type": "markdown",
   "id": "a5411364-552f-4eb8-a5c7-ea4dfb296e8c",
   "metadata": {},
   "source": [
    "### 7. Rééquilibrage des classes _(1pt)_ \n",
    "\n",
    "__(question plus difficile à garder pour la fin)__\n",
    "\n",
    "Que fait l'option `class_weight='balanced'` dans `SVC` ? (référez-vous à la documentation)\n",
    "\n",
    "Faites une prédiction par machine à vecteurs supports à noyau RBF avec la valeur de l'hyperparamètre $C$ sélectionnée précédemment (ne refaites pas une sélection par validation croisée) en utilisant cette option. Quel est l'effet sur la matrice de confusion et pourquoi? "
   ]
  },
  {
   "cell_type": "code",
   "execution_count": null,
   "id": "027e2fa6-2e8f-465c-9bb3-cea19231c4e1",
   "metadata": {},
   "outputs": [],
   "source": [
    "# votre code ici\n"
   ]
  },
  {
   "cell_type": "markdown",
   "id": "01dea8d8-584a-4bc9-95e1-b61a660a89d7",
   "metadata": {},
   "source": [
    "<font color=red>\n",
    "\n",
    "__Répondez sur votre copie de la partie 1__\n",
    "\n",
    "\n",
    "</font>"
   ]
  },
  {
   "cell_type": "code",
   "execution_count": null,
   "id": "8a856927-7fa6-471e-b34d-745add52a14b",
   "metadata": {},
   "outputs": [],
   "source": []
  }
 ],
 "metadata": {
  "kernelspec": {
   "display_name": "Python 3 (ipykernel)",
   "language": "python",
   "name": "python3"
  },
  "language_info": {
   "codemirror_mode": {
    "name": "ipython",
    "version": 3
   },
   "file_extension": ".py",
   "mimetype": "text/x-python",
   "name": "python",
   "nbconvert_exporter": "python",
   "pygments_lexer": "ipython3",
   "version": "3.11.5"
  }
 },
 "nbformat": 4,
 "nbformat_minor": 5
}
