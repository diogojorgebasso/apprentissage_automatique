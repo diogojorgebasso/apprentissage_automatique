{
 "cells": [
  {
   "cell_type": "markdown",
   "metadata": {},
   "source": [
    "# TP3 - Exercice 1\n",
    "\n",
    "<br>\n",
    "\n",
    "## Détection de spam\n",
    "\n",
    "<br>\n",
    "\n",
    "Dans ce TP, nous allons entraîner des classifieurs pour décider si un mail est un spam ou non.\n",
    "\n",
    "<br>\n",
    "\n",
    "Tout d'abord, quelques indications sur l'utilisation des méthodes d'apprentissage de `scikit-learn`.\n",
    "\n",
    "Les méthodes d'apprentissage supervisé de `scikit-learn` permettent de définir un objet, doté de différents attributs et méthodes, dont `cross_val_score` (pour calculer un score de validation croisée), `fit` (pour procéder à l'apprentissage), `predict` (pour prédire les classes des éléments d'une base de test), ou `score` pour calculer la proportion d'observations bien classées dans la base de test, sur laquelle on peut comparer la classe prédite à la \"vraie\" classe.\n",
    "\n",
    "Ci-dessous, un exemple d'utilisation de la classification au plus proche voisin, dans un scénario où on suppose disposer d'une base d'apprentissage $(X_{train},y_{train})$, et d'une base de test $X_{test}$ pour laquelle on connaît $y_{test}$, de manière à valider l'apprentissage sur la base de test. Si on veut changer de classifieur, il suffit d'utiliser un autre constructeur que `neighbors.KNeighborsClassifier` et de passer les paramètres adéquats.\n"
   ]
  },
  {
   "cell_type": "code",
   "execution_count": null,
   "metadata": {},
   "outputs": [],
   "source": [
    "# (le code suivant ne peut pas être exécuté \"tel quel\"...)\n",
    "\n",
    "# classifieur au plus proche voisin (on peut changer le paramètre n_neighbors):\n",
    "knn = neighbors.KNeighborsClassifier(n_neighbors=1)  \n",
    "\n",
    "# calcul d'un score moyen de validation croisée \"à 5 plis\" sur (X_train,y_train)\n",
    "scores = cross_val_score(knn,X_train,y_train,cv=5)\n",
    "print(\"score moyen de validation croisée: %0.3f (+/- %0.3f)\" % (scores.mean(),2*scores.std()))\n",
    "\n",
    "# la prédiction d'une nouvelle observation consistera à chercher le p.p.v. dans X_train, \n",
    "# et à associer la classe de ce p.p.v., donnée par y_train:\n",
    "knn.fit(X_train,y_train)  \n",
    "# Remarque: il n'y a pas d'apprentissage à proprement parler pour les p.p.v., \n",
    "# il s'agit juste de préciser la base dans laquelle seront cherchés les plus proches voisins\n",
    "\n",
    "# on stocke dans y_pred les classes prédites sur un ensemble de test X_test:\n",
    "y_pred = knn.predict(X_test)  \n",
    "\n",
    "# calcul d'un score lorsqu'on connaît les vraies classes des observations de X_test: \n",
    "# (proportion d'observations pour lesquelles y_test==y_pred)\n",
    "score = knn.score(X_test,y_test)"
   ]
  },
  {
   "cell_type": "markdown",
   "metadata": {},
   "source": [
    "## 1. Préliminaires\n",
    "\n",
    "<br>\n",
    "\n",
    "Commençons par charger les bibliothèques utiles au TD."
   ]
  },
  {
   "cell_type": "code",
   "execution_count": 1,
   "metadata": {},
   "outputs": [],
   "source": [
    "import numpy as np\n",
    "from sklearn.model_selection import train_test_split, cross_val_score, GridSearchCV\n",
    "from sklearn import neighbors, linear_model, naive_bayes, metrics\n",
    "\n",
    "%matplotlib inline "
   ]
  },
  {
   "cell_type": "markdown",
   "metadata": {},
   "source": [
    "Ensuite, on charge les données: récupérez au préalable le fichier `spambase.data` disponible sur le [UCI Machine Learning Repository](http://archive.ics.uci.edu/ml/datasets/Spambase) (cliquez sur \"Download\"). La description complète de la base est dans le fichier `spambase.name`, à ouvrir avec un éditeur de texte.\n",
    "\n",
    "<br>\n",
    "\n",
    "La cellule suivante charge les données. On forme une base d'entraînement avec 80% des données (choix aléatoire), et on garde 20% des données pour faire une base de test. Dans la cellule suivante, on fixe la graîne du générateur aléatoire (`random_state=1`, la valeur est arbitraire) de manière à ce que l'on ait tous les mêmes résultats afin de faciliter la comparaison.\n"
   ]
  },
  {
   "cell_type": "code",
   "execution_count": 2,
   "metadata": {},
   "outputs": [
    {
     "name": "stdout",
     "output_type": "stream",
     "text": [
      "dataset:\n",
      "[[0.000e+00 6.400e-01 6.400e-01 ... 6.100e+01 2.780e+02 1.000e+00]\n",
      " [2.100e-01 2.800e-01 5.000e-01 ... 1.010e+02 1.028e+03 1.000e+00]\n",
      " [6.000e-02 0.000e+00 7.100e-01 ... 4.850e+02 2.259e+03 1.000e+00]\n",
      " ...\n",
      " [3.000e-01 0.000e+00 3.000e-01 ... 6.000e+00 1.180e+02 0.000e+00]\n",
      " [9.600e-01 0.000e+00 0.000e+00 ... 5.000e+00 7.800e+01 0.000e+00]\n",
      " [0.000e+00 0.000e+00 6.500e-01 ... 5.000e+00 4.000e+01 0.000e+00]]\n",
      "\n",
      "TOTAL - nombre d'observations, nombre de caractéristiques:\n",
      "(4601, 58)\n",
      "\n",
      "APPRENTISSAGE - nombre d'observations, nombre de caractéristiques:\n",
      "(3680, 57)\n",
      "\n",
      "APPRENTISSAGE - nombre de labels associés aux obervations:\n",
      "(3680,)\n",
      "\n",
      "TEST - nombre d'observations, nombre de caractéristiques:\n",
      "(921, 57)\n",
      "\n",
      "TEST - nombre de labels associés aux obervations:\n",
      "(921,)\n",
      "\n",
      "observations, base d'apprentissage:\n",
      "[[0.000e+00 0.000e+00 0.000e+00 ... 2.307e+00 9.000e+00 3.000e+01]\n",
      " [8.000e-02 1.700e-01 1.700e-01 ... 2.658e+00 5.700e+01 4.360e+02]\n",
      " [0.000e+00 0.000e+00 1.850e+00 ... 1.727e+00 5.000e+00 1.900e+01]\n",
      " ...\n",
      " [0.000e+00 0.000e+00 7.600e-01 ... 2.441e+00 1.900e+01 2.490e+02]\n",
      " [0.000e+00 0.000e+00 8.700e-01 ... 1.601e+00 1.100e+01 2.770e+02]\n",
      " [0.000e+00 0.000e+00 0.000e+00 ... 1.103e+00 3.000e+00 3.200e+01]]\n",
      "\n",
      "labels associés, base d'apprentissage:\n",
      "[0. 0. 0. ... 1. 0. 1.]\n",
      "\n",
      "proportion de spams dans la base d'apprentissage:\n",
      "0.39565217391304347\n"
     ]
    }
   ],
   "source": [
    "data = np.loadtxt('spambase.data', delimiter=',')\n",
    "X_train, X_test, y_train, y_test = train_test_split(data[:,:-1], data[:,-1], test_size=0.2, random_state=1)\n",
    "# pour vérifier que les données sont bien chargées:\n",
    "print(\"dataset:\")\n",
    "print(data)  \n",
    "print(\"\\nTOTAL - nombre d'observations, nombre de caractéristiques:\")\n",
    "print(data.shape)\n",
    "print(\"\\nAPPRENTISSAGE - nombre d'observations, nombre de caractéristiques:\")\n",
    "print(X_train.shape)\n",
    "print(\"\\nAPPRENTISSAGE - nombre de labels associés aux obervations:\")\n",
    "print(y_train.shape)\n",
    "print(\"\\nTEST - nombre d'observations, nombre de caractéristiques:\")\n",
    "print(X_test.shape)\n",
    "print(\"\\nTEST - nombre de labels associés aux obervations:\")\n",
    "print(y_test.shape)\n",
    "print(\"\\nobservations, base d'apprentissage:\")\n",
    "print(X_train)\n",
    "print(\"\\nlabels associés, base d'apprentissage:\")\n",
    "print(y_train)\n",
    "print(\"\\nproportion de spams dans la base d'apprentissage:\")\n",
    "print(np.mean(y_train))"
   ]
  },
  {
   "cell_type": "markdown",
   "metadata": {},
   "source": [
    "__Question 1__. A partir de la description de la base de données, justifiez la manière employée pour charger les données en `X` (observations) et `y` (labels). Quelles sont les caractéristiques des observations, les labels, et quel est le rapport avec le problème initial?"
   ]
  },
  {
   "cell_type": "markdown",
   "metadata": {},
   "source": [
    "<font color=red>\n",
    "  \n",
    "As características    \n",
    "\n",
    "</font>"
   ]
  },
  {
   "cell_type": "markdown",
   "metadata": {},
   "source": [
    "__Remarque importante__: lorsqu'on teste des classifieurs, il est important de comparer les scores de classification obtenus à celui d'un \"dummy classifier\" (un classifieur fictif): un classifieur qui fait une prévision sans tenir compte des observations. Par exemple, ici un classifieur qui classerait toute observation comme \"non spam\" aurait raison dans presque 60% des cas. On espère donc que les classifieurs réels soient meilleurs. "
   ]
  },
  {
   "cell_type": "markdown",
   "metadata": {},
   "source": [
    "## 2. Classification aux plus proches voisins\n",
    "\n",
    "<br>\n",
    "\n",
    "Mettez en oeuvre les classifications au plus proche voisin et aux 5 plus proches voisins. Vous calculerez le score moyen de validation croisée à 5 plis sur la base d'apprentissage ainsi que le score obtenu sur la base de test. Vous vous inspirerez du code détaillé en introduction. \n",
    "\n",
    "__Question 2__. Quelle est la métrique utilisée pour déterminer les plus proches voisins? Quel est ce \"score\" calculé exactement? Quel lien entre score de validation croisée et score sur la base de test?"
   ]
  },
  {
   "cell_type": "code",
   "execution_count": 4,
   "metadata": {},
   "outputs": [
    {
     "name": "stdout",
     "output_type": "stream",
     "text": [
      "\n",
      "score moyen de validation croisée: 0.809 (+/- 0.013)\n",
      "score: 0.801\n"
     ]
    }
   ],
   "source": [
    "# votre code ici pour 1-ppv:\n",
    "print()\n",
    "knn = neighbors.KNeighborsClassifier(n_neighbors=1)\n",
    "scores = cross_val_score(knn, X_train, y_train)\n",
    "print(\"score moyen de validation croisée: %0.3f (+/- %0.3f)\" % (scores.mean(), 2*scores.std()))\n",
    "knn.fit(X_train, y_train)\n",
    "y_pred = knn.predict(X_test)\n",
    "score = knn.score(X_test, y_test)\n",
    "print(\"score: %0.3f\" % score)"
   ]
  },
  {
   "cell_type": "markdown",
   "metadata": {},
   "source": [
    "O KNN ele só calcula a distância. É pré-processamento."
   ]
  },
  {
   "cell_type": "code",
   "execution_count": 5,
   "metadata": {},
   "outputs": [
    {
     "name": "stdout",
     "output_type": "stream",
     "text": [
      "\n",
      "score moyen de validation croisée: 0.795 (+/- 0.029)\n",
      "score: 0.798\n"
     ]
    }
   ],
   "source": [
    "# votre code ici pour 5-ppv:\n",
    "print()\n",
    "knn = neighbors.KNeighborsClassifier(n_neighbors=5)\n",
    "scores = cross_val_score(knn, X_train, y_train)\n",
    "print(\"score moyen de validation croisée: %0.3f (+/- %0.3f)\" % (scores.mean(), 2*scores.std()))\n",
    "knn.fit(X_train, y_train)\n",
    "y_pred = knn.predict(X_test)\n",
    "score = knn.score(X_test, y_test)\n",
    "print(\"score: %0.3f\" % score)"
   ]
  },
  {
   "cell_type": "markdown",
   "metadata": {},
   "source": [
    "<font color=red>\n",
    "\n",
    "A métrica é o score.\n",
    "    \n",
    "</font>"
   ]
  },
  {
   "cell_type": "markdown",
   "metadata": {},
   "source": [
    "__Question 3__. Pourquoi la métrique utilisée n'est-elle pas adaptée aux observations ?\n"
   ]
  },
  {
   "cell_type": "markdown",
   "metadata": {},
   "source": [
    "<font color=red>\n",
    "\n",
    "Porque \n",
    "    \n",
    "</font>"
   ]
  },
  {
   "cell_type": "markdown",
   "metadata": {},
   "source": [
    "__Question 4__. Pré-traitez les données par standardisation, comme expliqué ici sur [la documentation scikit-learn](https://scikit-learn.org/stable/modules/preprocessing.html) (utilisez `StandardScaler` de manière à utiliser la même normalisation sur la base d'apprentissage et sur la base de test, c'est important), puis recalculez les scores des deux classifieurs précédents."
   ]
  },
  {
   "cell_type": "code",
   "execution_count": 6,
   "metadata": {},
   "outputs": [
    {
     "name": "stdout",
     "output_type": "stream",
     "text": [
      "score moyen de validation croisée: 0.902 (+/- 0.021)\n",
      "score: 0.911\n",
      "score moyen de validation croisée: 0.898 (+/- 0.011)\n",
      "score: 0.911\n"
     ]
    }
   ],
   "source": [
    "# votre code:\n",
    "from sklearn import preprocessing\n",
    "scaler = preprocessing.StandardScaler().fit(X_train)\n",
    "X_train_standard = scaler.transform(X_train)\n",
    "Y_test_standardized = scaler.transform(X_test)\n",
    "\n",
    "knn = neighbors.KNeighborsClassifier(n_neighbors=1)\n",
    "scores = cross_val_score(knn, X_train_standard, y_train)\n",
    "print(\"score moyen de validation croisée: %0.3f (+/- %0.3f)\" % (scores.mean(), 2*scores.std()))\n",
    "knn.fit(X_train_standard, y_train)\n",
    "y_pred = knn.predict(Y_test_standardized)\n",
    "score = knn.score(Y_test_standardized, y_test)\n",
    "print(\"score: %0.3f\" % score)\n",
    "\n",
    "KNN5 = neighbors.KNeighborsClassifier(n_neighbors=5)\n",
    "scores = cross_val_score(KNN5, X_train_standard, y_train)\n",
    "print(\"score moyen de validation croisée: %0.3f (+/- %0.3f)\" % (scores.mean(), 2*scores.std()))\n",
    "KNN5.fit(X_train_standard, y_train)\n",
    "y_pred = KNN5.predict(Y_test_standardized)\n",
    "score = KNN5.score(Y_test_standardized, y_test)\n",
    "print(\"score: %0.3f\" % score)\n"
   ]
  },
  {
   "cell_type": "markdown",
   "metadata": {},
   "source": [
    "## 3. Classifieur naïf de Bayes gaussien et classifieur de la régression logistique\n",
    "\n",
    "<br>\n",
    "\n",
    "\n",
    "__Question 5__. Pourquoi le classifieur naïf de Bayes gaussien ne nécessite-t-il pas de standardisation préalable des données ? (vous pouvez vérifier que la normalisation joue tout de même un faible rôle: elle a sans doute une influence sur le comportement de l'algorithme d'estimation des paramètres).\n",
    "\n",
    "\n",
    "Mettez en oeuvre le classifieur naïf de Bayes gaussien (lisez le début de la [documentation](https://scikit-learn.org/stable/modules/naive_bayes.html) où vous retrouverez le contenu du cours, puis la syntaxe de `GaussianNB` [ici](https://scikit-learn.org/stable/modules/generated/sklearn.naive_bayes.GaussianNB.html))."
   ]
  },
  {
   "cell_type": "code",
   "execution_count": 7,
   "metadata": {},
   "outputs": [
    {
     "name": "stdout",
     "output_type": "stream",
     "text": [
      "classifieur naïf de Bayes gaussien (sur les données originales):\n",
      "score moyen de validation croisée: 0.825 (+/- 0.021)\n",
      "score: 0.817\n"
     ]
    }
   ],
   "source": [
    "# votre code pour le classifieur naïf de Bayes gaussien (sur les données originales):\n",
    "print(\"classifieur naïf de Bayes gaussien (sur les données originales):\")\n",
    "gnb = naive_bayes.GaussianNB()\n",
    "scores = cross_val_score(gnb, X_train, y_train)\n",
    "print(\"score moyen de validation croisée: %0.3f (+/- %0.3f)\" % (scores.mean(), 2*scores.std()))\n",
    "gnb.fit(X_train, y_train)\n",
    "y_pred = gnb.predict(X_test)\n",
    "score = gnb.score(X_test, y_test)\n",
    "print(\"score: %0.3f\" % score)"
   ]
  },
  {
   "cell_type": "markdown",
   "metadata": {},
   "source": [
    "Mettez en oeuvre le classifieur de la régression logistique ([documentation](https://scikit-learn.org/stable/modules/generated/sklearn.linear_model.LogisticRegression.html)). \n",
    "\n",
    "Passez l'option `max_iter=2000` si vous avez un avertissement concernant la convergence de l'optimisation, de la manière suivante:\n",
    "`LR = linear_model.LogisticRegression(max_iter=2000)`"
   ]
  },
  {
   "cell_type": "code",
   "execution_count": null,
   "metadata": {
    "scrolled": false
   },
   "outputs": [
    {
     "name": "stdout",
     "output_type": "stream",
     "text": [
      "régression logistique (sur les données standardisées):\n",
      "meilleur estimateur:  LogisticRegression(C=10, max_iter=2000)\n",
      "[0.90679348 0.91711957 0.925      0.92771739 0.92717391 0.9263587\n",
      " 0.92608696 0.92663043]\n"
     ]
    },
    {
     "data": {
      "image/png": "[encoded data removed]",
      "text/plain": [
       "<Figure size 640x480 with 1 Axes>"
      ]
     },
     "metadata": {},
     "output_type": "display_data"
    },
    {
     "name": "stdout",
     "output_type": "stream",
     "text": [
      "\n",
      "Classification par regression logistique\n",
      "score moyen de validation croisée: 0.925 (+/- 0.023)\n"
     ]
    },
    {
     "ename": "ValueError",
     "evalue": "Found input variables with inconsistent numbers of samples: [921, 3680]",
     "output_type": "error",
     "traceback": [
      "\u001b[1;31m---------------------------------------------------------------------------\u001b[0m",
      "\u001b[1;31mValueError\u001b[0m                                Traceback (most recent call last)",
      "Cell \u001b[1;32mIn[12], line 21\u001b[0m\n\u001b[0;32m     19\u001b[0m \u001b[38;5;28mprint\u001b[39m(\u001b[38;5;124m\"\u001b[39m\u001b[38;5;124mscore moyen de validation croisée: \u001b[39m\u001b[38;5;132;01m%0.3f\u001b[39;00m\u001b[38;5;124m (+/- \u001b[39m\u001b[38;5;132;01m%0.3f\u001b[39;00m\u001b[38;5;124m)\u001b[39m\u001b[38;5;124m\"\u001b[39m \u001b[38;5;241m%\u001b[39m (scores\u001b[38;5;241m.\u001b[39mmean(), \u001b[38;5;241m2\u001b[39m\u001b[38;5;241m*\u001b[39mscores\u001b[38;5;241m.\u001b[39mstd()))\n\u001b[0;32m     20\u001b[0m logreg\u001b[38;5;241m.\u001b[39mfit(X_train_standard, y_train)\n\u001b[1;32m---> 21\u001b[0m score_LR \u001b[38;5;241m=\u001b[39m \u001b[43mlogreg\u001b[49m\u001b[38;5;241;43m.\u001b[39;49m\u001b[43mscore\u001b[49m\u001b[43m(\u001b[49m\u001b[43mX_train_standard\u001b[49m\u001b[43m,\u001b[49m\u001b[43m \u001b[49m\u001b[43my_test\u001b[49m\u001b[43m)\u001b[49m\n\u001b[0;32m     22\u001b[0m \u001b[38;5;28mprint\u001b[39m(\u001b[38;5;124m\"\u001b[39m\u001b[38;5;124mscore: \u001b[39m\u001b[38;5;132;01m%0.3f\u001b[39;00m\u001b[38;5;124m\"\u001b[39m \u001b[38;5;241m%\u001b[39m score_LR)\n\u001b[0;32m     23\u001b[0m y_pred_lr \u001b[38;5;241m=\u001b[39m logreg\u001b[38;5;241m.\u001b[39mpredict(X_test)\n",
      "File \u001b[1;32mc:\\Users\\diogo\\miniconda3\\envs\\ia\\Lib\\site-packages\\sklearn\\base.py:764\u001b[0m, in \u001b[0;36mClassifierMixin.score\u001b[1;34m(self, X, y, sample_weight)\u001b[0m\n\u001b[0;32m    739\u001b[0m \u001b[38;5;250m\u001b[39m\u001b[38;5;124;03m\"\"\"\u001b[39;00m\n\u001b[0;32m    740\u001b[0m \u001b[38;5;124;03mReturn the mean accuracy on the given test data and labels.\u001b[39;00m\n\u001b[0;32m    741\u001b[0m \n\u001b[1;32m   (...)\u001b[0m\n\u001b[0;32m    760\u001b[0m \u001b[38;5;124;03m    Mean accuracy of ``self.predict(X)`` w.r.t. `y`.\u001b[39;00m\n\u001b[0;32m    761\u001b[0m \u001b[38;5;124;03m\"\"\"\u001b[39;00m\n\u001b[0;32m    762\u001b[0m \u001b[38;5;28;01mfrom\u001b[39;00m \u001b[38;5;21;01m.\u001b[39;00m\u001b[38;5;21;01mmetrics\u001b[39;00m \u001b[38;5;28;01mimport\u001b[39;00m accuracy_score\n\u001b[1;32m--> 764\u001b[0m \u001b[38;5;28;01mreturn\u001b[39;00m \u001b[43maccuracy_score\u001b[49m\u001b[43m(\u001b[49m\u001b[43my\u001b[49m\u001b[43m,\u001b[49m\u001b[43m \u001b[49m\u001b[38;5;28;43mself\u001b[39;49m\u001b[38;5;241;43m.\u001b[39;49m\u001b[43mpredict\u001b[49m\u001b[43m(\u001b[49m\u001b[43mX\u001b[49m\u001b[43m)\u001b[49m\u001b[43m,\u001b[49m\u001b[43m \u001b[49m\u001b[43msample_weight\u001b[49m\u001b[38;5;241;43m=\u001b[39;49m\u001b[43msample_weight\u001b[49m\u001b[43m)\u001b[49m\n",
      "File \u001b[1;32mc:\\Users\\diogo\\miniconda3\\envs\\ia\\Lib\\site-packages\\sklearn\\utils\\_param_validation.py:213\u001b[0m, in \u001b[0;36mvalidate_params.<locals>.decorator.<locals>.wrapper\u001b[1;34m(*args, **kwargs)\u001b[0m\n\u001b[0;32m    207\u001b[0m \u001b[38;5;28;01mtry\u001b[39;00m:\n\u001b[0;32m    208\u001b[0m     \u001b[38;5;28;01mwith\u001b[39;00m config_context(\n\u001b[0;32m    209\u001b[0m         skip_parameter_validation\u001b[38;5;241m=\u001b[39m(\n\u001b[0;32m    210\u001b[0m             prefer_skip_nested_validation \u001b[38;5;129;01mor\u001b[39;00m global_skip_validation\n\u001b[0;32m    211\u001b[0m         )\n\u001b[0;32m    212\u001b[0m     ):\n\u001b[1;32m--> 213\u001b[0m         \u001b[38;5;28;01mreturn\u001b[39;00m \u001b[43mfunc\u001b[49m\u001b[43m(\u001b[49m\u001b[38;5;241;43m*\u001b[39;49m\u001b[43margs\u001b[49m\u001b[43m,\u001b[49m\u001b[43m \u001b[49m\u001b[38;5;241;43m*\u001b[39;49m\u001b[38;5;241;43m*\u001b[39;49m\u001b[43mkwargs\u001b[49m\u001b[43m)\u001b[49m\n\u001b[0;32m    214\u001b[0m \u001b[38;5;28;01mexcept\u001b[39;00m InvalidParameterError \u001b[38;5;28;01mas\u001b[39;00m e:\n\u001b[0;32m    215\u001b[0m     \u001b[38;5;66;03m# When the function is just a wrapper around an estimator, we allow\u001b[39;00m\n\u001b[0;32m    216\u001b[0m     \u001b[38;5;66;03m# the function to delegate validation to the estimator, but we replace\u001b[39;00m\n\u001b[0;32m    217\u001b[0m     \u001b[38;5;66;03m# the name of the estimator by the name of the function in the error\u001b[39;00m\n\u001b[0;32m    218\u001b[0m     \u001b[38;5;66;03m# message to avoid confusion.\u001b[39;00m\n\u001b[0;32m    219\u001b[0m     msg \u001b[38;5;241m=\u001b[39m re\u001b[38;5;241m.\u001b[39msub(\n\u001b[0;32m    220\u001b[0m         \u001b[38;5;124mr\u001b[39m\u001b[38;5;124m\"\u001b[39m\u001b[38;5;124mparameter of \u001b[39m\u001b[38;5;124m\\\u001b[39m\u001b[38;5;124mw+ must be\u001b[39m\u001b[38;5;124m\"\u001b[39m,\n\u001b[0;32m    221\u001b[0m         \u001b[38;5;124mf\u001b[39m\u001b[38;5;124m\"\u001b[39m\u001b[38;5;124mparameter of \u001b[39m\u001b[38;5;132;01m{\u001b[39;00mfunc\u001b[38;5;241m.\u001b[39m\u001b[38;5;18m__qualname__\u001b[39m\u001b[38;5;132;01m}\u001b[39;00m\u001b[38;5;124m must be\u001b[39m\u001b[38;5;124m\"\u001b[39m,\n\u001b[0;32m    222\u001b[0m         \u001b[38;5;28mstr\u001b[39m(e),\n\u001b[0;32m    223\u001b[0m     )\n",
      "File \u001b[1;32mc:\\Users\\diogo\\miniconda3\\envs\\ia\\Lib\\site-packages\\sklearn\\metrics\\_classification.py:231\u001b[0m, in \u001b[0;36maccuracy_score\u001b[1;34m(y_true, y_pred, normalize, sample_weight)\u001b[0m\n\u001b[0;32m    229\u001b[0m xp, _, device \u001b[38;5;241m=\u001b[39m get_namespace_and_device(y_true, y_pred, sample_weight)\n\u001b[0;32m    230\u001b[0m \u001b[38;5;66;03m# Compute accuracy for each possible representation\u001b[39;00m\n\u001b[1;32m--> 231\u001b[0m y_type, y_true, y_pred \u001b[38;5;241m=\u001b[39m \u001b[43m_check_targets\u001b[49m\u001b[43m(\u001b[49m\u001b[43my_true\u001b[49m\u001b[43m,\u001b[49m\u001b[43m \u001b[49m\u001b[43my_pred\u001b[49m\u001b[43m)\u001b[49m\n\u001b[0;32m    232\u001b[0m check_consistent_length(y_true, y_pred, sample_weight)\n\u001b[0;32m    233\u001b[0m \u001b[38;5;28;01mif\u001b[39;00m y_type\u001b[38;5;241m.\u001b[39mstartswith(\u001b[38;5;124m\"\u001b[39m\u001b[38;5;124mmultilabel\u001b[39m\u001b[38;5;124m\"\u001b[39m):\n",
      "File \u001b[1;32mc:\\Users\\diogo\\miniconda3\\envs\\ia\\Lib\\site-packages\\sklearn\\metrics\\_classification.py:103\u001b[0m, in \u001b[0;36m_check_targets\u001b[1;34m(y_true, y_pred)\u001b[0m\n\u001b[0;32m     76\u001b[0m \u001b[38;5;250m\u001b[39m\u001b[38;5;124;03m\"\"\"Check that y_true and y_pred belong to the same classification task.\u001b[39;00m\n\u001b[0;32m     77\u001b[0m \n\u001b[0;32m     78\u001b[0m \u001b[38;5;124;03mThis converts multiclass or binary types to a common shape, and raises a\u001b[39;00m\n\u001b[1;32m   (...)\u001b[0m\n\u001b[0;32m    100\u001b[0m \u001b[38;5;124;03my_pred : array or indicator matrix\u001b[39;00m\n\u001b[0;32m    101\u001b[0m \u001b[38;5;124;03m\"\"\"\u001b[39;00m\n\u001b[0;32m    102\u001b[0m xp, _ \u001b[38;5;241m=\u001b[39m get_namespace(y_true, y_pred)\n\u001b[1;32m--> 103\u001b[0m \u001b[43mcheck_consistent_length\u001b[49m\u001b[43m(\u001b[49m\u001b[43my_true\u001b[49m\u001b[43m,\u001b[49m\u001b[43m \u001b[49m\u001b[43my_pred\u001b[49m\u001b[43m)\u001b[49m\n\u001b[0;32m    104\u001b[0m type_true \u001b[38;5;241m=\u001b[39m type_of_target(y_true, input_name\u001b[38;5;241m=\u001b[39m\u001b[38;5;124m\"\u001b[39m\u001b[38;5;124my_true\u001b[39m\u001b[38;5;124m\"\u001b[39m)\n\u001b[0;32m    105\u001b[0m type_pred \u001b[38;5;241m=\u001b[39m type_of_target(y_pred, input_name\u001b[38;5;241m=\u001b[39m\u001b[38;5;124m\"\u001b[39m\u001b[38;5;124my_pred\u001b[39m\u001b[38;5;124m\"\u001b[39m)\n",
      "File \u001b[1;32mc:\\Users\\diogo\\miniconda3\\envs\\ia\\Lib\\site-packages\\sklearn\\utils\\validation.py:457\u001b[0m, in \u001b[0;36mcheck_consistent_length\u001b[1;34m(*arrays)\u001b[0m\n\u001b[0;32m    455\u001b[0m uniques \u001b[38;5;241m=\u001b[39m np\u001b[38;5;241m.\u001b[39munique(lengths)\n\u001b[0;32m    456\u001b[0m \u001b[38;5;28;01mif\u001b[39;00m \u001b[38;5;28mlen\u001b[39m(uniques) \u001b[38;5;241m>\u001b[39m \u001b[38;5;241m1\u001b[39m:\n\u001b[1;32m--> 457\u001b[0m     \u001b[38;5;28;01mraise\u001b[39;00m \u001b[38;5;167;01mValueError\u001b[39;00m(\n\u001b[0;32m    458\u001b[0m         \u001b[38;5;124m\"\u001b[39m\u001b[38;5;124mFound input variables with inconsistent numbers of samples: \u001b[39m\u001b[38;5;132;01m%r\u001b[39;00m\u001b[38;5;124m\"\u001b[39m\n\u001b[0;32m    459\u001b[0m         \u001b[38;5;241m%\u001b[39m [\u001b[38;5;28mint\u001b[39m(l) \u001b[38;5;28;01mfor\u001b[39;00m l \u001b[38;5;129;01min\u001b[39;00m lengths]\n\u001b[0;32m    460\u001b[0m     )\n",
      "\u001b[1;31mValueError\u001b[0m: Found input variables with inconsistent numbers of samples: [921, 3680]"
     ]
    }
   ],
   "source": [
    "# votre code pour la régression logistique (sur les données standardisées):\n",
    "import matplotlib.pyplot as plt\n",
    "\n",
    "print(\"régression logistique (sur les données standardisées):\")\n",
    "logreg = linear_model.LogisticRegression(max_iter=2000)\n",
    "GS = GridSearchCV(logreg, {'C': [0.01, 0.1, 1, 10, 100, 1000, 100000, 1000000]}, cv=5)\n",
    "GS.fit(X_train_standard, y_train)\n",
    "print(\"meilleur estimateur: \", GS.best_estimator_)\n",
    "print(GS.cv_results_[\"mean_test_score\"])\n",
    "plt.figure()\n",
    "plt.plot([0.01, 0.1, 1, 10, 100, 1000, 100000, 1000000], GS.cv_results_[\"mean_test_score\"])\n",
    "plt.xscale(\"log\")\n",
    "plt.grid()\n",
    "plt.show()\n",
    "\n",
    "print(\"\\nClassification par regression logistique\")\n",
    "logreg = linear_model.LogisticRegression(max_iter=2000, C=1)\n",
    "scores = cross_val_score(logreg, X_train_standard, y_train)\n",
    "print(\"score moyen de validation croisée: %0.3f (+/- %0.3f)\" % (scores.mean(), 2*scores.std()))\n",
    "logreg.fit(X_train_standard, y_train)\n",
    "score_LR = logreg.score(X_test_standard, y_test)\n",
    "print(\"score: %0.3f\" % score_LR)\n",
    "y_pred_lr = logreg.predict(X_test)"
   ]
  },
  {
   "cell_type": "markdown",
   "metadata": {},
   "source": [
    "## 4. Analyse des résultats\n",
    "\n",
    "<br>\n",
    "\n",
    "On dispose des matrices de confusion, décrites [ici](https://scikit-learn.org/stable/modules/generated/sklearn.metrics.confusion_matrix.html), et des rapports de classification, décrits [là](https://scikit-learn.org/stable/modules/generated/sklearn.metrics.classification_report.html).\n",
    "\n",
    "__Question 6__. Affichez ces matrices et rapports sur la base test pour les quatre classifieurs étudiés."
   ]
  },
  {
   "cell_type": "code",
   "execution_count": null,
   "metadata": {},
   "outputs": [],
   "source": [
    "# votre code ici:\n",
    "p = 0.6\n"
   ]
  },
  {
   "cell_type": "markdown",
   "metadata": {},
   "source": [
    "__Question 7__. Ici, par quoi pourraient s'expliquer les performances modestes du classifieur naïf de Bayes ?\n",
    "A ce stade, quel classifieur préfére-t-on et pourquoi? Dans une application de détection de spams, cherche-t-on réellement à minimiser le taux d'erreur global?"
   ]
  },
  {
   "cell_type": "markdown",
   "metadata": {},
   "source": [
    "<font color=red>\n",
    "       \n",
    "Réponse:\n",
    "    \n",
    "</font>"
   ]
  },
  {
   "cell_type": "markdown",
   "metadata": {},
   "source": [
    "## 5. Toutes les erreurs ne se valent pas...\n",
    "\n",
    "Le classifieur bayésien naïf gaussien et le classifieur de la régression logistique s'appuient tous deux sur la règle du maximum a posteriori. Ils permettent d'estimer la probabilité a posteriori $p(C_1|x)$ et détectent un spam lorsque $p(C_1|x)>1/2$, où $C_1$ désigne la classe \"spam\" et $x$ est une observation. Les deux classifieurs mettent en oeuvre le classifieur de Bayes, qui minimise le risque moyen de prédiction (le taux d'erreur).  Le taux d'erreur \"compte\" de la même manière les erreurs sur les deux classes.\n",
    "\n",
    "Si on préfère réduire le taux de faux positif de la méthode (proportion de mails détectés à tort comme \"spam\"), on peut relever le seuil de cette probabilité. \n",
    "\n",
    "Les classifieurs `LogisticRegression` et `GaussianNB` possèdent tous deux une méthode `predict_proba` qui, pour un tableau d'observations, fournit la probabilité a posteriori de chaque classe, comme l'affiche la cellule suivante. On remarque que pour chaque observation $x$, $p(C_0|x)+p(C_1|x)=1$.  (attention, la documentation n'est pas très claire, `predict_proba` fournit bien la probabilité a posteriori, et pas la vraisemblance $p(x|C_k)$)\n",
    "\n",
    "Remarquons qu'aucune probabilité n'est fournie par la classification aux plus proches voisins."
   ]
  },
  {
   "cell_type": "code",
   "execution_count": null,
   "metadata": {},
   "outputs": [],
   "source": [
    "print(\"probabilités a posteriori pour GNB:\")\n",
    "print(GNB.predict_proba(X_test))\n",
    "print(\"\\nprobabilités a posteriori pour LR:\")\n",
    "print(LR.predict_proba(X_test_standard))"
   ]
  },
  {
   "cell_type": "code",
   "execution_count": null,
   "metadata": {},
   "outputs": [],
   "source": [
    "# faites varier le seuil de détection p:\n",
    "p=0.5  # constatez que p=0.5 fournit les mêmes résultats pour y_pred_lr et y_pred_LRb\n",
    "y_pred_LRb = (LR.predict_proba(X_test_standard)[:,1] >= p).astype(int)\n",
    "#print(y_pred_LRb)   # pour visualiser les classes prédites\n",
    "#print(y_pred_lr)\n",
    "score_LRb = 1-np.mean(np.abs(y_test-y_pred_LRb))  # calcul du taux de reconnaissance\n",
    "\n",
    "print(\"\\nClassification de la régression logistique pour un seuil de probabilité p=%.3f\" %p)\n",
    "print('score sur la base de test: %.3f' %score_LRb)\n",
    "print(metrics.classification_report(y_test,y_pred_LRb))\n",
    "print(\"matrice de confusion:\")\n",
    "print(metrics.confusion_matrix(y_test,y_pred_LRb))\n",
    "\n"
   ]
  },
  {
   "cell_type": "markdown",
   "metadata": {},
   "source": [
    "__Question 8__. Quelle valeur du seuil de probabilité $p$ faut-il choisir pour assurer un rappel de la classe \"non spam\" d'au moins 0.98?\n",
    "Que penser de cet algorithme de détection de spam?"
   ]
  },
  {
   "cell_type": "markdown",
   "metadata": {},
   "source": [
    "<font color=red>\n",
    "    \n",
    "Réponse:\n",
    "    \n",
    "</font>\n"
   ]
  },
  {
   "cell_type": "code",
   "execution_count": null,
   "metadata": {},
   "outputs": [],
   "source": []
  }
 ],
 "metadata": {
  "kernelspec": {
   "display_name": "ia",
   "language": "python",
   "name": "python3"
  },
  "language_info": {
   "codemirror_mode": {
    "name": "ipython",
    "version": 3
   },
   "file_extension": ".py",
   "mimetype": "text/x-python",
   "name": "python",
   "nbconvert_exporter": "python",
   "pygments_lexer": "ipython3",
   "version": "3.13.0"
  }
 },
 "nbformat": 4,
 "nbformat_minor": 2
}
