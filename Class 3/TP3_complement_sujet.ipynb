{
 "cells": [
  {
   "cell_type": "markdown",
   "metadata": {},
   "source": [
    "# Introduction à l'apprentissage automatique: complément facultatif \n",
    "\n",
    "<br>\n",
    "\n",
    "## Complément facultatif: génération aléatoire d'images de chiffres manuscrits selon un mélange de gaussiennes\n",
    "\n",
    "On change de base de données pour utiliser:\n",
    "```python\n",
    "digits = datasets.load_digits()\n",
    "X_train2 = digits.data\n",
    "y_train2 = digits.target \n",
    "``` \n",
    "Cette base est formée de 1797 images de taille 8 pixels par 8 pixels. La dimension des observations (64) est donc bien plus faible que dans la base MNIST, ce qui rend les calculs moins longs et les modèles moins sujets à la malédiction de la dimension.\n",
    "\n",
    "Modélisez la distribution des chiffres manuscrits comme un mélange de gaussienne:\n",
    "* vous utiliserez un nombre de composantes minimisant le critère AIC (testez entre 1 et 200 composantes par pas de 20 pour limiter le temps de calcul)\n",
    "* vous représenterez les moyennes des composantes comme une image, en vous inspirant de la fonction d'affichage précédente (constatez que certains chiffres sont représentés par plusieurs gaussiennes)\n",
    "* vous générerez aléatoirement 100 chiffres avec cette méthode. Vous les représenterez, et vous les comparerez à 100 chiffres de la base.\n",
    "\n",
    "\n",
    "Si vous avez des résultats intéressants, n'hésitez pas à discuter vos résultats avec votre chargé de TD. "
   ]
  }
 ],
 "metadata": {
  "kernelspec": {
   "display_name": "Python 3",
   "language": "python",
   "name": "python3"
  },
  "language_info": {
   "codemirror_mode": {
    "name": "ipython",
    "version": 3
   },
   "file_extension": ".py",
   "mimetype": "text/x-python",
   "name": "python",
   "nbconvert_exporter": "python",
   "pygments_lexer": "ipython3",
   "version": "3.8.8"
  }
 },
 "nbformat": 4,
 "nbformat_minor": 4
}
