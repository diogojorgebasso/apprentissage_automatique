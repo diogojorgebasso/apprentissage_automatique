{
 "cells": [
  {
   "cell_type": "markdown",
   "metadata": {},
   "source": [
    "# Introduction à l'apprentissage automatique - TP4 exercice 3\n",
    "\n",
    "### SVM sur données réelles\n",
    "\n",
    "<br> \n",
    "\n",
    "On considère le jeu de données `breast-cancer` décrit __[ici](https://scikit-learn.org/stable/modules/generated/sklearn.datasets.load_breast_cancer.html)__ et __[là](https://archive.ics.uci.edu/ml/datasets/Breast+Cancer+Wisconsin+(Diagnostic))__. \n",
    "\n",
    "__Questions__. Que contient ce jeu de données? Combien d'observations et d'attributs par observation? Que cherche-t-on à prédire?"
   ]
  },
  {
   "cell_type": "markdown",
   "metadata": {},
   "source": [
    "<font color=red>\n",
    "    \n",
    "Votre réponse:\n",
    "    \n",
    "</font>"
   ]
  },
  {
   "cell_type": "markdown",
   "metadata": {},
   "source": [
    "Réservez 20% des observations pour former une base de test.\n",
    "\n",
    "__Travail à faire__. Mettez en oeuvre la classification par une SVM à noyau gaussien (gardez la valeur par défaut \"scale\" pour le paramètre `gamma`) et une SVM linéaire ainsi que les autres méthodes de classification que vous connaissez bien à présent.\n",
    "\n",
    "Vous comparerez les scores de classification avec et sans normalisation ( _standardisation_ : les caractéristiques sont centrées et réduites). Vous fixerez les hyperparamètres de ces méthodes par validation croisée sur la base d'apprentissage, et vous comparerez les performances des méthodes sur la base de test."
   ]
  },
  {
   "cell_type": "code",
   "execution_count": null,
   "metadata": {},
   "outputs": [],
   "source": [
    "from sklearn import datasets, metrics, model_selection, preprocessing, neighbors, naive_bayes, linear_model, svm\n",
    "import numpy as np\n",
    "import matplotlib.pyplot as plt\n",
    "%matplotlib inline\n",
    "\n",
    "# on charge le jeu de données et on garde 30% comme base test:\n",
    "dataset = datasets.load_breast_cancer()\n",
    "X_dataset = dataset.data\n",
    "y_dataset = dataset.target\n",
    "X_train, X_test, y_train, y_test = model_selection.train_test_split(X_dataset,y_dataset,test_size=.2,random_state=1)\n",
    "\n",
    "print(\"Les 3 premières observations (non normalisées):\")\n",
    "print(X_train[:3,:])\n",
    "\n",
    "print(\"et les étiquettes:\")\n",
    "print(y_train[:3])\n",
    "\n",
    "# normalisation:\n",
    "X_train_n = preprocessing.StandardScaler().fit_transform(X_train)\n",
    "X_test_n = preprocessing.StandardScaler().fit(X_train).transform(X_test)\n",
    "\n",
    "print(\"\\nLes 3 premières observations (normalisées):\")\n",
    "print(X_train_n[:3,:])"
   ]
  },
  {
   "cell_type": "markdown",
   "metadata": {},
   "source": [
    "<font color=red>\n",
    "\n",
    "Réponse\n",
    "\n",
    "</font>"
   ]
  },
  {
   "cell_type": "code",
   "execution_count": null,
   "metadata": {},
   "outputs": [],
   "source": [
    "# choix de C pour SVM RBF  \n",
    "# on garde le coef gamma fixé par défaut\n",
    "# faites deux gridsearch différentes: avec et sans normalisation du dataset\n",
    "\n",
    "# votre code ici:\n",
    "\n"
   ]
  },
  {
   "cell_type": "code",
   "execution_count": null,
   "metadata": {},
   "outputs": [],
   "source": [
    "# choix de C pour SVM linéaire  \n",
    "# faites deux gridsearch différentes: avec et sans normalisation du dataset\n",
    "\n",
    "# votre code ici:\n",
    "\n"
   ]
  },
  {
   "cell_type": "code",
   "execution_count": null,
   "metadata": {},
   "outputs": [],
   "source": [
    "# gridsearch KNN\n",
    "# faites deux gridsearch différentes: avec et sans normalisation du dataset\n",
    "\n",
    "# votre code ici:\n"
   ]
  },
  {
   "cell_type": "code",
   "execution_count": null,
   "metadata": {},
   "outputs": [],
   "source": [
    "# gridsearch LR (paramètre de régularisation C)\n",
    "# faites deux gridsearch différentes: avec et sans normalisation du dataset\n",
    "\n",
    "# votre code ici:\n"
   ]
  },
  {
   "cell_type": "code",
   "execution_count": null,
   "metadata": {},
   "outputs": [],
   "source": [
    "# calcul des scores sur la base de test pour les différents classifieurs\n",
    "# (sans puis avec normalisation de la base)\n",
    "\n",
    "# votre code ici:\n"
   ]
  }
 ],
 "metadata": {
  "kernelspec": {
   "display_name": "Python 3 (ipykernel)",
   "language": "python",
   "name": "python3"
  },
  "language_info": {
   "codemirror_mode": {
    "name": "ipython",
    "version": 3
   },
   "file_extension": ".py",
   "mimetype": "text/x-python",
   "name": "python",
   "nbconvert_exporter": "python",
   "pygments_lexer": "ipython3",
   "version": "3.9.13"
  }
 },
 "nbformat": 4,
 "nbformat_minor": 2
}
